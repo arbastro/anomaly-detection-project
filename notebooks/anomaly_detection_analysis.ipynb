import pandas as pd
from src.data_preprocessing import load_data, preprocess_data
from src.anomaly_detection import detect_anomalies
from src.db_interaction import save_to_database, fetch_from_database

#load n' preprocess data
df = load_data("../data/sample_data.csv")
preprocessed_df = preprocess_data(df)

# detect anomalies
anomalies = detect_anomalies(preprocessed_df)

#save anomalies to the database
save_to_database(anomalies, "../data/database.sqlite")

#fetch anomalies from the database
anomalies_from_db = fetch_from_database("../data/database.sqlite")
anomalies_from_db.head()
